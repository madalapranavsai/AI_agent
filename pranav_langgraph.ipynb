{
  "nbformat": 4,
  "nbformat_minor": 0,
  "metadata": {
    "colab": {
      "provenance": [],
      "include_colab_link": true
    },
    "kernelspec": {
      "name": "python3",
      "display_name": "Python 3"
    },
    "language_info": {
      "name": "python"
    }
  },
  "cells": [
    {
      "cell_type": "markdown",
      "metadata": {
        "id": "view-in-github",
        "colab_type": "text"
      },
      "source": [
        "<a href=\"https://colab.research.google.com/github/madalapranavsai/AI_agent/blob/main/pranav_langgraph.ipynb\" target=\"_parent\"><img src=\"https://colab.research.google.com/assets/colab-badge.svg\" alt=\"Open In Colab\"/></a>"
      ]
    },
    {
      "cell_type": "markdown",
      "source": [
        "# STEP 0: Install dependencies"
      ],
      "metadata": {
        "id": "K3yWWtQ8cC4i"
      }
    },
    {
      "cell_type": "code",
      "source": [
        "!pip install -q google-generativeai==0.8.5 google-ai-generativelanguage==0.6.15 \\\n",
        "langgraph langchain langchain-google-genai openai"
      ],
      "metadata": {
        "id": "soskmOCvgAWg"
      },
      "execution_count": 44,
      "outputs": []
    },
    {
      "cell_type": "markdown",
      "source": [
        "# STEP 1: Imports and secure API key input"
      ],
      "metadata": {
        "id": "XvoFPl11cFhj"
      }
    },
    {
      "cell_type": "code",
      "source": [
        "import os\n",
        "import getpass\n",
        "from langgraph.graph import StateGraph, END\n",
        "from langchain_google_genai import ChatGoogleGenerativeAI\n",
        "from langchain_core.messages import HumanMessage"
      ],
      "metadata": {
        "id": "B3T1JB5liyLG"
      },
      "execution_count": 45,
      "outputs": []
    },
    {
      "cell_type": "markdown",
      "source": [
        "\n",
        "# Secure Gemini API Key input"
      ],
      "metadata": {
        "id": "W28u20SxcIiH"
      }
    },
    {
      "cell_type": "code",
      "source": [
        "\n",
        "os.environ['GOOGLE_API_KEY']=getpass.getpass(\"Enter Gemini API Key:\")"
      ],
      "metadata": {
        "colab": {
          "base_uri": "https://localhost:8080/"
        },
        "id": "jDQOytcqlX6z",
        "outputId": "c03c83a8-a1fc-420a-b363-e6367ff4a2bb"
      },
      "execution_count": 46,
      "outputs": [
        {
          "name": "stdout",
          "output_type": "stream",
          "text": [
            "Enter Gemini API Key:··········\n"
          ]
        }
      ]
    },
    {
      "cell_type": "markdown",
      "source": [
        "# STEP 2: Initialize Gemini 1.5 Flash"
      ],
      "metadata": {
        "id": "eusINPuVcLXp"
      }
    },
    {
      "cell_type": "code",
      "source": [
        "llm = ChatGoogleGenerativeAI(model=\"gemini-1.5-flash-latest\",temperature=0.2)"
      ],
      "metadata": {
        "id": "Tc5a7HIRnSXs"
      },
      "execution_count": 58,
      "outputs": []
    },
    {
      "cell_type": "markdown",
      "source": [
        "# STEP 3: Node to ask user for symptom"
      ],
      "metadata": {
        "id": "o07zbkLWcOVW"
      }
    },
    {
      "cell_type": "code",
      "source": [
        " def get_symptom_node(state:dict)->dict:\n",
        "  symptom=input(\"welcome enter your symptom\")\n",
        "  state[\"symptom\"]=symptom\n",
        "  return state"
      ],
      "metadata": {
        "id": "GU8f2CB8n_Bn"
      },
      "execution_count": 48,
      "outputs": []
    },
    {
      "cell_type": "markdown",
      "source": [
        "# STEP 4: Node to classify the symptom"
      ],
      "metadata": {
        "id": "0KIzyYPVcRVm"
      }
    },
    {
      "cell_type": "code",
      "source": [
        "from sre_constants import CATEGORY\n",
        "def classify_symptom_node(state:dict)->dict:\n",
        "  prompt= (\n",
        "      \"you are a helpful medical assistant , classisfy he symptoms in one the categories \\n\"\n",
        "      \"General\\n-Emergency\\n-mentalhealth\\n\"\n",
        "      f\"symptom : {state['symptom']}\\n\"\n",
        "      \"respond only with one word : General , Emergency Or mentalhealth \"\n",
        "      \"#example : input : I Have Fever , Output : General \"\n",
        "  )\n",
        "  response=llm.invoke([HumanMessage(content=prompt)])\n",
        "  CATEGORY =response.content.strip()\n",
        "  print(f\"llm classifies  the symptom as {CATEGORY}\")\n",
        "  state[\"CATEGORY\"]=CATEGORY\n",
        "  return state"
      ],
      "metadata": {
        "id": "jsGNImngpoi4"
      },
      "execution_count": 54,
      "outputs": []
    },
    {
      "cell_type": "markdown",
      "source": [
        "# STEP 5: Router logic to route to the correct node\n"
      ],
      "metadata": {
        "id": "kESmxbnicWpS"
      }
    },
    {
      "cell_type": "code",
      "source": [
        "def symptom_router(state:dict)->dict:\n",
        "  cat= state[\"CATEGORY\"].lower()\n",
        "  if \"general\" in cat :\n",
        "      return \"general\"\n",
        "\n",
        "  elif \"emergency\" in cat:\n",
        "      return \"emergency\"\n",
        "  elif \"mentalhealth\" in cat:\n",
        "      return \"mentalhealth\"\n",
        "  else:\n",
        "      return \"general\""
      ],
      "metadata": {
        "id": "BIIvI1uQtHqq"
      },
      "execution_count": 50,
      "outputs": []
    },
    {
      "cell_type": "markdown",
      "source": [
        "# STEP 6: Category-specific response nodes\n"
      ],
      "metadata": {
        "id": "cZuR4VGscake"
      }
    },
    {
      "cell_type": "code",
      "source": [
        "def general_node(state:dict)->dict:\n",
        "  state[\"answer\"]=f\"'{state['symptom']} ': directing you to consult a general doctor\"\n",
        "  return state\n",
        "def emergency_node(state:dict)->dict:\n",
        "  state[\"answer\"]=f\"'{state['symptom']} ': directing you to consult a emergency doctor\"\n",
        "  return state\n",
        "def mentalhealth_node(state:dict)->dict:\n",
        "  state[\"answer\"]=f\"'{state['symptom']} ': directing you to consult a mental doctor\"\n",
        "  return state"
      ],
      "metadata": {
        "id": "HLRPTF6YuV6j"
      },
      "execution_count": 55,
      "outputs": []
    },
    {
      "cell_type": "markdown",
      "source": [
        "# STEP 7: Build LangGraph\n"
      ],
      "metadata": {
        "id": "I1ek0SwzcehS"
      }
    },
    {
      "cell_type": "code",
      "source": [
        "bulider=StateGraph(dict)\n",
        "bulider.set_entry_point(\"get_symptom\")\n",
        "bulider.add_node(\"get_symptom\",get_symptom_node)\n",
        "bulider.add_node(\"classify\",classify_symptom_node)\n",
        "bulider.add_node(\"general\",general_node)\n",
        "bulider.add_node(\"emergency\",emergency_node)\n",
        "bulider.add_node(\"mentalhealth\",mentalhealth_node)\n",
        "bulider.add_edge(\"get_symptom\",\"classify\")\n",
        "bulider.add_conditional_edges(\"classify\",symptom_router,{\n",
        "    \"general\":\"general\",\n",
        "    \"emergency\":\"emergency\",\n",
        "    \"mentalhealth\":\"mentalhealth\"\n",
        "})\n",
        "bulider.add_edge(\"general\",END)\n",
        "bulider.add_edge(\"emergency\",END)\n",
        "bulider.add_edge(\"mentalhealth\",END)"
      ],
      "metadata": {
        "colab": {
          "base_uri": "https://localhost:8080/"
        },
        "id": "DUaKSRBdvyqY",
        "outputId": "fb6aad55-02f6-4988-cabd-cec83f0ca884"
      },
      "execution_count": 56,
      "outputs": [
        {
          "output_type": "execute_result",
          "data": {
            "text/plain": [
              "<langgraph.graph.state.StateGraph at 0x78554d340ad0>"
            ]
          },
          "metadata": {},
          "execution_count": 56
        }
      ]
    },
    {
      "cell_type": "markdown",
      "source": [
        "# STEP 8: Compile and invoke the graph\n"
      ],
      "metadata": {
        "id": "GbAgCeZYci5k"
      }
    },
    {
      "cell_type": "code",
      "source": [
        "graph= bulider.compile()\n",
        "final_state=graph.invoke({})\n",
        "print(final_state[\"answer\"])"
      ],
      "metadata": {
        "colab": {
          "base_uri": "https://localhost:8080/"
        },
        "id": "Rv6hWogpymQq",
        "outputId": "a46b4939-4040-42bf-e741-4ec27225361a"
      },
      "execution_count": 60,
      "outputs": [
        {
          "output_type": "stream",
          "name": "stdout",
          "text": [
            "welcome enter your symptomhigh fever with cough and blood vomit\n",
            "llm classifies  the symptom as Emergency\n",
            "'high fever with cough and blood vomit ': directing you to consult a emergency doctor\n"
          ]
        }
      ]
    },
    {
      "cell_type": "code",
      "source": [],
      "metadata": {
        "id": "z4JZdOsXzCNf"
      },
      "execution_count": null,
      "outputs": []
    }
  ]
}